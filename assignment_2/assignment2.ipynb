{
  "nbformat": 4,
  "nbformat_minor": 0,
  "metadata": {
    "colab": {
      "provenance": []
    },
    "kernelspec": {
      "name": "ir",
      "display_name": "R"
    },
    "language_info": {
      "name": "R"
    }
  },
  "cells": [
    {
      "cell_type": "markdown",
      "source": [
        "[![Open In Colab](https://colab.research.google.com/assets/colab-badge.svg)](https://colab.research.google.com/drive/1qe7KkR5VX4ByQURT8JEGJZQhRzSr5rdT?usp=sharing)\n"
      ],
      "metadata": {
        "id": "K2HUAtOSB_nk"
      }
    },
    {
      "cell_type": "markdown",
      "source": [
        "<table style=\"border: 1px solid #4CAF50; background-color: #f9f9f9; padding: 10px; width: 100%;\">\n",
        "  <tr>\n",
        "    <td>\n",
        "      <h1 style=\"font-family: 'Times New Roman'; font-size: 24px; background-color: lightgray;\">\n",
        "        <b>GEOG279 - Fall 2024</b>\n",
        "      </h1>\n",
        "      <h1 style=\"font-family: 'Times New Roman'; font-size: 24px; background-color: lightgray;\">\n",
        "        <b>Assignment 2: Advanced Methods in Impact Assessment</b>\n",
        "      </h1>\n",
        "      <h3 style=\"font-family: 'Times New Roman'; font-size: 18px; background-color: lightgray;\">\n",
        "        <b>Instructor</b>: Kathy Baylis\n",
        "      </h3>\n",
        "      <h4 style=\"font-family: 'Times New Roman'; font-size: 16px; background-color: lightgray;\">\n",
        "        <b>Due Date</b>: Tuesday, Oct 29\n",
        "      </h4>\n",
        "    </td>\n",
        "  </tr>\n",
        "</table>"
      ],
      "metadata": {
        "id": "5ArnViPOKayX"
      }
    },
    {
      "cell_type": "markdown",
      "source": [
        "<table style=\"border: 1px solid #4CAF50; background-color: #f9f9f9; padding: 10px; width: 100%;\">\n",
        "  <tr>\n",
        "    <td>\n",
        "      <h3 style=\"font-family: 'Times New Roman'; font-size: 18px;\">\n",
        "        <b>First & Last Name:</b> <span style=\"border-bottom: 1px solid black; padding-left: 100px;\"></span>\n",
        "      </h3>\n",
        "    </td>\n",
        "  </tr>\n",
        "</table>"
      ],
      "metadata": {
        "id": "vQxB8ACuEJ5n"
      }
    },
    {
      "cell_type": "markdown",
      "source": [
        "________*Add Name Here*_________________"
      ],
      "metadata": {
        "id": "OC_sIoYbEa-d"
      }
    },
    {
      "cell_type": "markdown",
      "source": [
        "<span style=\"font-family: 'Times New Roman'; font-size: 14px;\">\n",
        "<h1><b> Randomized Control Trials (RCT) & Matching : Constructing the Appropriate Counterfactual</h1></span></b>\n",
        "\n",
        "<span style=\"font-family: 'Times New Roman'; font-size: 14px;\"><p>In this assignment, we will analyze the results from a **Randomized Controlled Trial (RCT)** where the <u>counterfactual</u> for the treatment group is a randomly selected control group. Additionally, we will construct control groups using matching techniques and compare the results to those from the RCT. Our data comes from a real-world RCT on the effects of marketing in encouraging households to purchase index insurance. This trial was conducted in collaboration with **ICRISAT**, in India.</span></p>\n",
        "\n",
        "<span style=\"font-family: 'Times New Roman'; font-size: 14px;\">\n",
        "<h2><b>I. Background on the RCT</h2></span></b>\n",
        "\n",
        "<span style=\"font-family: 'Times New Roman'; font-size: 14px;\"><p>The data comes from the study “**[Barriers to Household Risk Management: Evidence from India](https://pubs.aeaweb.org/doi/pdfplus/10.1257/app.5.1.104)**” by Shawn Cole, Xavier Giné, Jeremy Tobacman, Petia Topalova, Robert Townsend, and James Vickery, published in the American Economic Journal: Applied Economics in 2013 (Cole, Giné, Tobacman, Topalova, Townsend, & Vickery, 2013).</span></p>\n",
        "\n",
        "<span style=\"font-family: 'Times New Roman'; font-size: 14px;\"><p>The goal of this RCT was to estimate the **demand curve** for rainfall insurance and determine how demand responds to non-price factors such as trust, liquidity constraints, and framing effects.\n",
        "\n",
        "A **demand curve** is a graphical representation of the relationship between the price of a good or service and the quantity that consumers are willing and able to purchase at different price levels. Typically, it slopes downward, indicating that as the price of a good decreases, the quantity demanded increases, and vice versa.</p></span>\n",
        "\n",
        "<span style=\"font-family: 'Times New Roman'; font-size: 14px;\">\n",
        "  <ul>\n",
        "    <li>A sample of <b>1,047</b> households was randomly selected from census data covering over <b>7,000</b> households in Andhra Pradesh.</li>\n",
        "    <li>From this, <b>700</b> households were assigned to receive <b>treatment</b> (information about weather insurance).</li>\n",
        "    <li>Due to difficulties in locating <b>40</b> households, <u><b>660</b></u> were actually in the treatment group.</li>\n",
        "    <li>The outcome of interest is whether or not households purchased insurance.</li>\n",
        "  </ul>\n",
        "</span>\n",
        "\n",
        "<br>\n",
        "\n",
        "<span style=\"font-family: 'Times New Roman'; font-size: 14px;\"><p><b>Citation</b>: Cole, Shawn, Xavier Giné, Jeremy Tobacman, Petia Topalova, Robert Townsend, and James Vickery. 2013. \"Barriers to Household Risk Management: Evidence from India.\" American Economic Journal: Applied Economics, 5 (1): 104–35. DOI: 10.1257/app.5.1.104 </span>\n",
        "\n"
      ],
      "metadata": {
        "id": "nlhuVAc4Ch54"
      }
    },
    {
      "cell_type": "markdown",
      "source": [
        "\n",
        "\n",
        "---\n",
        "\n"
      ],
      "metadata": {
        "id": "8Q1xNSbHLf_I"
      }
    },
    {
      "cell_type": "markdown",
      "source": [
        "<span style=\"font-family: 'Times New Roman'; font-size: 14px;\">\n",
        "<h2><b> II. Experimental Design and Sample Design </h2></b> </span>\n",
        "\n",
        "<span style=\"font-family: 'Times New Roman'; font-size: 14px;\"><p>In this section, we explore key questions related to the design of the RCT and its implications on the validity of the results. The discussion focuses on both the **experimental design** and **sample design** aspects of the study, allowing us to critically assess the robustness of the findings and potential limitations.</p></span>"
      ],
      "metadata": {
        "id": "hWB5WtEkLflw"
      }
    },
    {
      "cell_type": "markdown",
      "source": [
        "<span style=\"font-family: 'Times New Roman'; font-size: 14px;\">\n",
        "<h3><b> A. Experimental Design </h3></b> </span>\n"
      ],
      "metadata": {
        "id": "Vx8TtAg1Pumq"
      }
    },
    {
      "cell_type": "markdown",
      "source": [
        "**1. What are your thoughts on the design of this RCT?**\n",
        "\n",
        "\n",
        "\n"
      ],
      "metadata": {
        "id": "vUjTY-ByPxKv"
      }
    },
    {
      "cell_type": "markdown",
      "source": [
        " ------------------------Your Answer here----------------------------------------\n"
      ],
      "metadata": {
        "id": "yJp79zqUQNIG"
      }
    },
    {
      "cell_type": "markdown",
      "source": [
        "**2. How does the treatment inform the research question? Are there any limitations?**"
      ],
      "metadata": {
        "id": "jFwI5szLQDqe"
      }
    },
    {
      "cell_type": "markdown",
      "source": [
        " ------------------------Your Answer here----------------------------------------"
      ],
      "metadata": {
        "id": "RmWlBA3aQN55"
      }
    },
    {
      "cell_type": "markdown",
      "source": [
        "<span style=\"font-family: 'Times New Roman'; font-size: 14px;\">\n",
        "<h3><b> B. Sample Design </h3></b> </span>"
      ],
      "metadata": {
        "id": "xJAEuaziQbm2"
      }
    },
    {
      "cell_type": "markdown",
      "source": [
        "**3. Are those in the treatment group representative? Of what population?**"
      ],
      "metadata": {
        "id": "8IUyLXfpQf_k"
      }
    },
    {
      "cell_type": "markdown",
      "source": [
        " ------------------------Your Answer here----------------------------------------"
      ],
      "metadata": {
        "id": "QiEeGHg0QhCs"
      }
    },
    {
      "cell_type": "markdown",
      "source": [
        "**4. Should we be concerned about the 40 missing households?**"
      ],
      "metadata": {
        "id": "4CD65JeHQhYJ"
      }
    },
    {
      "cell_type": "markdown",
      "source": [
        " ------------------------Your Answer here----------------------------------------"
      ],
      "metadata": {
        "id": "p5afwZr0Qh7l"
      }
    },
    {
      "cell_type": "markdown",
      "source": [
        "<span style=\"font-family: 'Times New Roman'; font-size: 14px;\">\n",
        "  <h2><b> III. Treatment Randomization and Interventions</b></h2>\n",
        "</span>\n",
        "\n",
        "<p>In addition to households being randomly assigned to treatment, the content of the treatment itself was randomized as well. The study implemented three different types of treatment interventions:</p>\n",
        "\n",
        "<ol>\n",
        "  <li><b>Endorsement by Local Agents:</b> Villages were randomly assigned to receive an endorsement from the local BASIX LSA, a microfinance institution. Two-thirds of the villages were endorsement-eligible, and within these villages, half of the visits included an endorsement. The goal of this treatment was to measure how trust in the local agent influenced demand for the insurance product.</li>\n",
        "\n",
        "  <li><b>Cash Compensation:</b> Households were randomly offered compensation ranging between ₹25 and ₹100 for their time. This treatment was designed to assess how liquidity constraints impacted the demand for insurance. <b>Note</b>: The symbol ₹ refers to Indian Rupees (INR).</li>\n",
        "\n",
        "  <li><b>Insurance Education:</b> Households were provided with additional insurance education to measure the impact of knowledge on the likelihood of purchasing insurance. This treatment tested whether increased awareness and understanding of insurance influenced demand.</li>\n",
        "</ol>\n",
        "\n",
        "<p>For more detailed information on the experimental design, refer to the paper by Cole et al.</p>\n"
      ],
      "metadata": {
        "id": "vr9yenQrQifM"
      }
    },
    {
      "cell_type": "markdown",
      "source": [
        "<span style=\"font-family: 'Times New Roman'; font-size: 14px;\">\n",
        "  <h2><b>IV. Objectives for this Assignment</b></h2>\n",
        "</span>\n",
        "\n",
        "<p>This assignment has two key objectives related to analyzing the data from the RCT:</p>\n",
        "\n",
        "\n",
        "  <li><b>Analyze RCT Data:</b>\n",
        "    First, conduct a balance check to determine whether the sample was balanced between the treatment and control groups. Then, measure the Average Treatment Effect (ATE) to quantify the impact of the intervention.\n",
        "  </li>\n",
        "\n",
        "  <li><b>Construct Control Groups Using Matching Techniques:</b>\n",
        "    Apply matching techniques in R, such as propensity score matching or nearest-neighbor matching, to construct alternative control groups. Compare the results from these matched control groups with those from the randomized control group.\n",
        "  </li>\n",
        "</ol>\n"
      ],
      "metadata": {
        "id": "77TANDu-QfyU"
      }
    },
    {
      "cell_type": "markdown",
      "source": [
        "<span style=\"font-family: 'Times New Roman'; font-size: 14px;\">\n",
        "  <h2><b>Getting Started</b></h2>\n",
        "</span>\n",
        "\n",
        "<p><b>Before Getting Started: Change Runtime to R</b></p>\n",
        "\n",
        "<p>Before proceeding with the assignment, you need to ensure that the runtime environment is set to R. Follow these steps:</p>\n",
        "\n",
        "<ol>\n",
        "  <li>Click on the <b>“Runtime”</b> tab in the menu at the top of the notebook.</li>\n",
        "  <li>Select <b>“Change runtime type”</b> from the dropdown.</li>\n",
        "  <li>In the <b>“Runtime type”</b> dialog box, select <b>“R”</b> from the “Runtime type” dropdown menu.</li>\n",
        "  <li>Click <b>“Save”</b> to apply the changes.</li>\n",
        "</ol>\n",
        "\n",
        "<p>Once you’ve changed the runtime to R, you can proceed with the assignment.</p>\n",
        "\n",
        "<p><b>Important:</b> Make sure to save your script as <code> your_initials_assignment2.ipynb</code> to ensure consistent naming for the autograder in Gradescope. Please, only use the cells where it says <b>Your code here</b> or <b>Your answer here</b> to include your code and responses.</p>\n",
        "\n"
      ],
      "metadata": {
        "id": "L-D8c6FNPnMz"
      }
    },
    {
      "cell_type": "markdown",
      "source": [
        "## **Loading libraries**"
      ],
      "metadata": {
        "id": "f4ulU5DStae6"
      }
    },
    {
      "cell_type": "code",
      "execution_count": null,
      "metadata": {
        "id": "seOWPMltA623",
        "colab": {
          "base_uri": "https://localhost:8080/"
        },
        "outputId": "ed26858f-ccb5-4c3c-8e3e-5541e8d67750"
      },
      "outputs": [
        {
          "output_type": "stream",
          "name": "stderr",
          "text": [
            "── \u001b[1mAttaching core tidyverse packages\u001b[22m ──────────────────────── tidyverse 2.0.0 ──\n",
            "\u001b[32m✔\u001b[39m \u001b[34mdplyr    \u001b[39m 1.1.4     \u001b[32m✔\u001b[39m \u001b[34mreadr    \u001b[39m 2.1.5\n",
            "\u001b[32m✔\u001b[39m \u001b[34mforcats  \u001b[39m 1.0.0     \u001b[32m✔\u001b[39m \u001b[34mstringr  \u001b[39m 1.5.1\n",
            "\u001b[32m✔\u001b[39m \u001b[34mggplot2  \u001b[39m 3.5.1     \u001b[32m✔\u001b[39m \u001b[34mtibble   \u001b[39m 3.2.1\n",
            "\u001b[32m✔\u001b[39m \u001b[34mlubridate\u001b[39m 1.9.3     \u001b[32m✔\u001b[39m \u001b[34mtidyr    \u001b[39m 1.3.1\n",
            "\u001b[32m✔\u001b[39m \u001b[34mpurrr    \u001b[39m 1.0.2     \n",
            "── \u001b[1mConflicts\u001b[22m ────────────────────────────────────────── tidyverse_conflicts() ──\n",
            "\u001b[31m✖\u001b[39m \u001b[34mdplyr\u001b[39m::\u001b[32mfilter()\u001b[39m masks \u001b[34mstats\u001b[39m::filter()\n",
            "\u001b[31m✖\u001b[39m \u001b[34mdplyr\u001b[39m::\u001b[32mlag()\u001b[39m    masks \u001b[34mstats\u001b[39m::lag()\n",
            "\u001b[36mℹ\u001b[39m Use the conflicted package (\u001b[3m\u001b[34m<http://conflicted.r-lib.org/>\u001b[39m\u001b[23m) to force all conflicts to become errors\n",
            "##  rgenoud (Version 5.9-0.11, Build Date: 2024-10-03)\n",
            "##  See http://sekhon.berkeley.edu/rgenoud for additional documentation.\n",
            "##  Please cite software as:\n",
            "##   Walter Mebane, Jr. and Jasjeet S. Sekhon. 2011.\n",
            "##   ``Genetic Optimization Using Derivatives: The rgenoud package for R.''\n",
            "##   Journal of Statistical Software, 42(11): 1-26. \n",
            "##\n",
            "\n",
            "\n",
            "Loading required package: MASS\n",
            "\n",
            "\n",
            "Attaching package: ‘MASS’\n",
            "\n",
            "\n",
            "The following object is masked from ‘package:dplyr’:\n",
            "\n",
            "    select\n",
            "\n",
            "\n",
            "## \n",
            "##  Matching (Version 4.10-15, Build Date: 2024-10-14)\n",
            "##  See https://www.jsekhon.com for additional documentation.\n",
            "##  Please cite software as:\n",
            "##   Jasjeet S. Sekhon. 2011. ``Multivariate and Propensity Score Matching\n",
            "##   Software with Automated Balance Optimization: The Matching package for R.''\n",
            "##   Journal of Statistical Software, 42(7): 1-52. \n",
            "##\n",
            "\n",
            "\n"
          ]
        }
      ],
      "source": [
        "# Installing required libraries\n",
        "suppressMessages({\n",
        "  suppressWarnings({\n",
        "    install.packages(\"haven\", quiet = TRUE)\n",
        "    install.packages(\"tidyverse\", quiet = TRUE)\n",
        "    install.packages(\"MatchIt\", quiet = TRUE)\n",
        "    install.packages(\"optmatch\", quiet = TRUE)\n",
        "    install.packages(\"rgenoud\", quiet = TRUE)\n",
        "    install.packages(\"Matching\", quiet = TRUE)\n",
        "    install.packages(\"readstata13\", quiet = TRUE)\n",
        "  })\n",
        "})\n",
        "\n",
        "# Loading libraries\n",
        "library(haven)      # For data importing (read and write Stata, SPSS, SAS)\n",
        "library(tidyverse)  # Data manipulation and visualization\n",
        "library(MatchIt)    # Matching for observational studies\n",
        "library(optmatch)   # Optimal matching\n",
        "library(rgenoud)    # Genetic optimization for matching\n",
        "library(Matching)   # Matching package\n",
        "library(readstata13)# For reading Stata .dta files (version 13+)"
      ]
    },
    {
      "cell_type": "markdown",
      "source": [
        "## **Loading the data**\n",
        "\n",
        "Now that you’ve gained experience with power calculations, it’s time to dive into the analysis of the RCT data using `R`. Start by loading the dataset `Index_Insurance_data.dta`. The key variable that identifies whether a household was in the treatment group or the control group is `d_visit`. This variable will be crucial for your analysis as it distinguishes between households that received the treatment and those that did not.\n"
      ],
      "metadata": {
        "id": "Kl4O2nEktlFU"
      }
    },
    {
      "cell_type": "code",
      "source": [
        "# Read the .dta file directly from GitHub's raw URL\n",
        "url <- \"https://raw.githubusercontent.com/GEOG279-Advanced-Spatial-Statistics/GEOG279-Course/main/assignment_2/data/Index_Insurance_Data.dta\"\n",
        "\n",
        "df <- read_dta(url)\n",
        "\n",
        "# View the first few rows of the data\n",
        "head(df)"
      ],
      "metadata": {
        "colab": {
          "base_uri": "https://localhost:8080/",
          "height": 286
        },
        "id": "vCzOgI-mtkVB",
        "outputId": "e00c8c1a-cb67-493a-ef1a-96730b09ce3a"
      },
      "execution_count": null,
      "outputs": [
        {
          "output_type": "display_data",
          "data": {
            "text/html": [
              "<table class=\"dataframe\">\n",
              "<caption>A tibble: 6 × 26</caption>\n",
              "<thead>\n",
              "\t<tr><th scope=col>vid1</th><th scope=col>hhid</th><th scope=col>ins_lev</th><th scope=col>d_visit</th><th scope=col>endors_LSA</th><th scope=col>ins_edu</th><th scope=col>d_highreward</th><th scope=col>endors_visit</th><th scope=col>riskav1_jul06i</th><th scope=col>norm_exp_rainMay06</th><th scope=col>⋯</th><th scope=col>lage_headi</th><th scope=col>sexheadi</th><th scope=col>d_highedu</th><th scope=col>lhhsizei</th><th scope=col>sched_ct</th><th scope=col>muslim</th><th scope=col>buy_ins04i</th><th scope=col>ins_otheri</th><th scope=col>DK_basixi</th><th scope=col>bua_newi</th></tr>\n",
              "\t<tr><th scope=col>&lt;dbl&gt;</th><th scope=col>&lt;dbl&gt;</th><th scope=col>&lt;dbl&gt;</th><th scope=col>&lt;dbl&gt;</th><th scope=col>&lt;dbl+lbl&gt;</th><th scope=col>&lt;dbl+lbl&gt;</th><th scope=col>&lt;dbl&gt;</th><th scope=col>&lt;dbl&gt;</th><th scope=col>&lt;dbl&gt;</th><th scope=col>&lt;dbl&gt;</th><th scope=col>⋯</th><th scope=col>&lt;dbl&gt;</th><th scope=col>&lt;dbl&gt;</th><th scope=col>&lt;dbl&gt;</th><th scope=col>&lt;dbl&gt;</th><th scope=col>&lt;dbl&gt;</th><th scope=col>&lt;dbl&gt;</th><th scope=col>&lt;dbl&gt;</th><th scope=col>&lt;dbl&gt;</th><th scope=col>&lt;dbl&gt;</th><th scope=col>&lt;dbl&gt;</th></tr>\n",
              "</thead>\n",
              "<tbody>\n",
              "\t<tr><td>10401</td><td>1040119</td><td>0</td><td>0</td><td>0</td><td>0</td><td>0</td><td>0</td><td>0.6000000</td><td>-0.7515903</td><td>⋯</td><td>4.110874</td><td>1</td><td>0</td><td>1.791759</td><td>0</td><td>0</td><td>0</td><td>1</td><td>1</td><td>0</td></tr>\n",
              "\t<tr><td>20503</td><td>2050320</td><td>0</td><td>0</td><td>0</td><td>0</td><td>0</td><td>0</td><td>0.0000000</td><td>-0.7515903</td><td>⋯</td><td>4.262680</td><td>1</td><td>0</td><td>2.302585</td><td>0</td><td>0</td><td>0</td><td>1</td><td>0</td><td>0</td></tr>\n",
              "\t<tr><td>10305</td><td>1030510</td><td>0</td><td>0</td><td>0</td><td>0</td><td>0</td><td>0</td><td>0.6056193</td><td> 0.4608039</td><td>⋯</td><td>3.433987</td><td>1</td><td>1</td><td>1.609438</td><td>0</td><td>0</td><td>0</td><td>0</td><td>0</td><td>0</td></tr>\n",
              "\t<tr><td>10501</td><td>1050103</td><td>0</td><td>0</td><td>0</td><td>0</td><td>0</td><td>0</td><td>0.6000000</td><td>-0.7515903</td><td>⋯</td><td>3.044523</td><td>1</td><td>1</td><td>1.945910</td><td>0</td><td>0</td><td>1</td><td>1</td><td>0</td><td>0</td></tr>\n",
              "\t<tr><td>10501</td><td>1050101</td><td>0</td><td>0</td><td>0</td><td>0</td><td>0</td><td>0</td><td>0.5000000</td><td>-0.7515903</td><td>⋯</td><td>3.806663</td><td>1</td><td>0</td><td>1.945910</td><td>0</td><td>0</td><td>1</td><td>1</td><td>0</td><td>0</td></tr>\n",
              "\t<tr><td>10405</td><td>1040518</td><td>0</td><td>0</td><td>0</td><td>0</td><td>0</td><td>0</td><td>0.3300000</td><td>-0.7515903</td><td>⋯</td><td>4.234107</td><td>1</td><td>0</td><td>2.197225</td><td>1</td><td>0</td><td>0</td><td>1</td><td>1</td><td>0</td></tr>\n",
              "</tbody>\n",
              "</table>\n"
            ],
            "text/markdown": "\nA tibble: 6 × 26\n\n| vid1 &lt;dbl&gt; | hhid &lt;dbl&gt; | ins_lev &lt;dbl&gt; | d_visit &lt;dbl&gt; | endors_LSA &lt;dbl+lbl&gt; | ins_edu &lt;dbl+lbl&gt; | d_highreward &lt;dbl&gt; | endors_visit &lt;dbl&gt; | riskav1_jul06i &lt;dbl&gt; | norm_exp_rainMay06 &lt;dbl&gt; | ⋯ ⋯ | lage_headi &lt;dbl&gt; | sexheadi &lt;dbl&gt; | d_highedu &lt;dbl&gt; | lhhsizei &lt;dbl&gt; | sched_ct &lt;dbl&gt; | muslim &lt;dbl&gt; | buy_ins04i &lt;dbl&gt; | ins_otheri &lt;dbl&gt; | DK_basixi &lt;dbl&gt; | bua_newi &lt;dbl&gt; |\n|---|---|---|---|---|---|---|---|---|---|---|---|---|---|---|---|---|---|---|---|---|\n| 10401 | 1040119 | 0 | 0 | 0 | 0 | 0 | 0 | 0.6000000 | -0.7515903 | ⋯ | 4.110874 | 1 | 0 | 1.791759 | 0 | 0 | 0 | 1 | 1 | 0 |\n| 20503 | 2050320 | 0 | 0 | 0 | 0 | 0 | 0 | 0.0000000 | -0.7515903 | ⋯ | 4.262680 | 1 | 0 | 2.302585 | 0 | 0 | 0 | 1 | 0 | 0 |\n| 10305 | 1030510 | 0 | 0 | 0 | 0 | 0 | 0 | 0.6056193 |  0.4608039 | ⋯ | 3.433987 | 1 | 1 | 1.609438 | 0 | 0 | 0 | 0 | 0 | 0 |\n| 10501 | 1050103 | 0 | 0 | 0 | 0 | 0 | 0 | 0.6000000 | -0.7515903 | ⋯ | 3.044523 | 1 | 1 | 1.945910 | 0 | 0 | 1 | 1 | 0 | 0 |\n| 10501 | 1050101 | 0 | 0 | 0 | 0 | 0 | 0 | 0.5000000 | -0.7515903 | ⋯ | 3.806663 | 1 | 0 | 1.945910 | 0 | 0 | 1 | 1 | 0 | 0 |\n| 10405 | 1040518 | 0 | 0 | 0 | 0 | 0 | 0 | 0.3300000 | -0.7515903 | ⋯ | 4.234107 | 1 | 0 | 2.197225 | 1 | 0 | 0 | 1 | 1 | 0 |\n\n",
            "text/latex": "A tibble: 6 × 26\n\\begin{tabular}{lllllllllllllllllllll}\n vid1 & hhid & ins\\_lev & d\\_visit & endors\\_LSA & ins\\_edu & d\\_highreward & endors\\_visit & riskav1\\_jul06i & norm\\_exp\\_rainMay06 & ⋯ & lage\\_headi & sexheadi & d\\_highedu & lhhsizei & sched\\_ct & muslim & buy\\_ins04i & ins\\_otheri & DK\\_basixi & bua\\_newi\\\\\n <dbl> & <dbl> & <dbl> & <dbl> & <dbl+lbl> & <dbl+lbl> & <dbl> & <dbl> & <dbl> & <dbl> & ⋯ & <dbl> & <dbl> & <dbl> & <dbl> & <dbl> & <dbl> & <dbl> & <dbl> & <dbl> & <dbl>\\\\\n\\hline\n\t 10401 & 1040119 & 0 & 0 & 0 & 0 & 0 & 0 & 0.6000000 & -0.7515903 & ⋯ & 4.110874 & 1 & 0 & 1.791759 & 0 & 0 & 0 & 1 & 1 & 0\\\\\n\t 20503 & 2050320 & 0 & 0 & 0 & 0 & 0 & 0 & 0.0000000 & -0.7515903 & ⋯ & 4.262680 & 1 & 0 & 2.302585 & 0 & 0 & 0 & 1 & 0 & 0\\\\\n\t 10305 & 1030510 & 0 & 0 & 0 & 0 & 0 & 0 & 0.6056193 &  0.4608039 & ⋯ & 3.433987 & 1 & 1 & 1.609438 & 0 & 0 & 0 & 0 & 0 & 0\\\\\n\t 10501 & 1050103 & 0 & 0 & 0 & 0 & 0 & 0 & 0.6000000 & -0.7515903 & ⋯ & 3.044523 & 1 & 1 & 1.945910 & 0 & 0 & 1 & 1 & 0 & 0\\\\\n\t 10501 & 1050101 & 0 & 0 & 0 & 0 & 0 & 0 & 0.5000000 & -0.7515903 & ⋯ & 3.806663 & 1 & 0 & 1.945910 & 0 & 0 & 1 & 1 & 0 & 0\\\\\n\t 10405 & 1040518 & 0 & 0 & 0 & 0 & 0 & 0 & 0.3300000 & -0.7515903 & ⋯ & 4.234107 & 1 & 0 & 2.197225 & 1 & 0 & 0 & 1 & 1 & 0\\\\\n\\end{tabular}\n",
            "text/plain": [
              "  vid1  hhid    ins_lev d_visit endors_LSA ins_edu d_highreward endors_visit\n",
              "1 10401 1040119 0       0       0          0       0            0           \n",
              "2 20503 2050320 0       0       0          0       0            0           \n",
              "3 10305 1030510 0       0       0          0       0            0           \n",
              "4 10501 1050103 0       0       0          0       0            0           \n",
              "5 10501 1050101 0       0       0          0       0            0           \n",
              "6 10405 1040518 0       0       0          0       0            0           \n",
              "  riskav1_jul06i norm_exp_rainMay06 ⋯ lage_headi sexheadi d_highedu lhhsizei\n",
              "1 0.6000000      -0.7515903         ⋯ 4.110874   1        0         1.791759\n",
              "2 0.0000000      -0.7515903         ⋯ 4.262680   1        0         2.302585\n",
              "3 0.6056193       0.4608039         ⋯ 3.433987   1        1         1.609438\n",
              "4 0.6000000      -0.7515903         ⋯ 3.044523   1        1         1.945910\n",
              "5 0.5000000      -0.7515903         ⋯ 3.806663   1        0         1.945910\n",
              "6 0.3300000      -0.7515903         ⋯ 4.234107   1        0         2.197225\n",
              "  sched_ct muslim buy_ins04i ins_otheri DK_basixi bua_newi\n",
              "1 0        0      0          1          1         0       \n",
              "2 0        0      0          1          0         0       \n",
              "3 0        0      0          0          0         0       \n",
              "4 0        0      1          1          0         0       \n",
              "5 0        0      1          1          0         0       \n",
              "6 1        0      0          1          1         0       "
            ]
          },
          "metadata": {}
        }
      ]
    },
    {
      "cell_type": "markdown",
      "source": [
        "## **Randomization Check**\n",
        "\n",
        "In this step, we will assess whether the randomization process was successful by comparing key baseline characteristics between the treatment and control groups. Specifically, we will perform a `t-test` to compare the means of two variables: `wealth_indexi `(household wealth) and `sexheadi` (gender of the household head). The variable `d_visit` will be used as the treatment indicator, where households that received the treatment are compared with those in the control group. If the randomization was successful, we expect no significant differences in the means of these variables between the two groups, indicating that they are comparable at baseline."
      ],
      "metadata": {
        "id": "kQ88SRbDzS2A"
      }
    },
    {
      "cell_type": "markdown",
      "source": [
        "**5. Check whether the randomization was successful. Perform a `t-test` to compare the means of `wealth_indexi` and `sexheadi` between the treatment and control groups, using the `d_visit` variable as the treatment indicator.**\n"
      ],
      "metadata": {
        "id": "LCErSp1Otsra"
      }
    },
    {
      "cell_type": "code",
      "source": [
        "#------------------------Your Code Here----------------------------------------\n",
        "\n"
      ],
      "metadata": {
        "id": "gxZr2kWAtsI4"
      },
      "execution_count": null,
      "outputs": []
    },
    {
      "cell_type": "markdown",
      "source": [
        "**6. Based on the `t-test` results, do you believe the control group (those who did not receive the treatment) is an appropriate comparison group for the treatment group?**\n"
      ],
      "metadata": {
        "id": "qi21Y42wtr8w"
      }
    },
    {
      "cell_type": "markdown",
      "source": [
        "\n",
        "------------------------Your Answer here----------------------------------------\n",
        "\n"
      ],
      "metadata": {
        "id": "d9WCqb3gubJh"
      }
    },
    {
      "cell_type": "markdown",
      "source": [
        "**7. Conduct a `t-test` to compare the mean number of insurance purchases between households that received a visit (treatment group) and those that did not (control group).**\n"
      ],
      "metadata": {
        "id": "BeWVudxKud89"
      }
    },
    {
      "cell_type": "code",
      "source": [
        "#------------------------Your Code Here----------------------------------------\n"
      ],
      "metadata": {
        "id": "gjxJ6UOTum1z"
      },
      "execution_count": null,
      "outputs": []
    },
    {
      "cell_type": "markdown",
      "source": [
        "**8. What do the results of the t-test suggest? Is this estimate representing the intention-to-treat effect (ITT), the effect of the treatment on the treated (TOT), or the average treatment effect (ATE)? Explain your reasoning.**\n",
        "\n",
        "**Recall:**\n",
        "<table style=\"width:100%; border: 1px solid #000; background-color: #f0f0f0; padding: 10px;\">\n",
        "  <tr>\n",
        "    <th style=\"text-align: left;\">Term</th>\n",
        "    <th style=\"text-align: left;\">Definition</th>\n",
        "  </tr>\n",
        "  <tr>\n",
        "    <td><b>Intention-to-Treat Effect (ITT)</b></td>\n",
        "    <td>Measures the effect of being assigned to the treatment, regardless of whether the treatment was actually received.</td>\n",
        "  </tr>\n",
        "  <tr>\n",
        "    <td><b>Effect of the Treatment on the Treated (TOT)</b></td>\n",
        "    <td>Measures the effect on those who actually received the treatment.</td>\n",
        "  </tr>\n",
        "  <tr>\n",
        "    <td><b>Average Treatment Effect (ATE)</b></td>\n",
        "    <td>Measures the overall effect of the treatment across the entire population, comparing what would happen if everyone were treated versus no one being treated.</td>\n",
        "  </tr>\n",
        "</table>\n",
        "\n"
      ],
      "metadata": {
        "id": "U23GHwmjunZn"
      }
    },
    {
      "cell_type": "markdown",
      "source": [
        "------------------------Your Answer here----------------------------------------\n",
        "\n"
      ],
      "metadata": {
        "id": "PYjs-nHVuj0c"
      }
    },
    {
      "cell_type": "markdown",
      "source": [
        "**9. Run a linear regression with `d_visit `as the independent variable and insurance purchase (`ins_lev`) as the dependent variable.**\n"
      ],
      "metadata": {
        "id": "SJ4wRMFku0H-"
      }
    },
    {
      "cell_type": "code",
      "source": [
        "#------------------------Your Code Here----------------------------------------\n"
      ],
      "metadata": {
        "id": "RlWpWlEnu0-K"
      },
      "execution_count": null,
      "outputs": []
    },
    {
      "cell_type": "markdown",
      "source": [
        "**10. Add household control variables to the regression, including `DK_basixi`, `wealth_indexi`, `logpce_new_wi`, `riskav1_jul06i`, `norm_exp_rainMay06`, `lcultirrpcti`, `mean_payouts`, `buy_ins04i, ins_otheri`, `bua_newi`, `group_addi`, `sched_ct`, `muslim`, `sexheadi`, `lage_headi,` `lhhsizei`, `d_highedu`, and `ins_skilli`. Run the updated regression and summarize the results.**\n"
      ],
      "metadata": {
        "id": "scfkTYp9u1g6"
      }
    },
    {
      "cell_type": "code",
      "source": [
        "#------------------------Your Code Here----------------------------------------\n"
      ],
      "metadata": {
        "id": "j8ROKBRCu4Yu"
      },
      "execution_count": null,
      "outputs": []
    },
    {
      "cell_type": "markdown",
      "source": [
        "**11. How do the results change after including household control variables in the regression? Why do these changes occur?**\n"
      ],
      "metadata": {
        "id": "CzELZfjIu7Fx"
      }
    },
    {
      "cell_type": "markdown",
      "source": [
        "------------------------Your Answer here----------------------------------------\n",
        "\n"
      ],
      "metadata": {
        "id": "GCjTTDYgu75Y"
      }
    },
    {
      "cell_type": "markdown",
      "source": [
        "**12. Run a regression of the outcome variable (`ins_lev`) on `d_visit,` `endors_LSA`, and their interaction (`endors_visit`). Then, run the same regression but include household control variables.**\n"
      ],
      "metadata": {
        "id": "-eGeAMrFu8Vm"
      }
    },
    {
      "cell_type": "code",
      "source": [
        "#------------------------Your Code Here----------------------------------------\n"
      ],
      "metadata": {
        "id": "DYGnCRMCvAxn"
      },
      "execution_count": null,
      "outputs": []
    },
    {
      "cell_type": "markdown",
      "source": [
        "**13. Based on the regression results, did the endorsement by the LSA (`endors_LSA`) have any significant effect on insurance purchases?**"
      ],
      "metadata": {
        "id": "aTGR2hh0vBwg"
      }
    },
    {
      "cell_type": "markdown",
      "source": [
        "------------------------Your Answer here----------------------------------------\n",
        "\n"
      ],
      "metadata": {
        "id": "B0xtYyKJvHS-"
      }
    },
    {
      "cell_type": "markdown",
      "source": [
        "## **Propensity Score Matching (PSM)**\n",
        "\n",
        "**Propensity Score Matching (PSM)** is  used to estimate the effect of a treatment by matching treated units with control units that have similar characteristics. The propensity score, typically estimated using [logistic regression](https://en.wikipedia.org/wiki/Logistic_regression), represents the probability of receiving the treatment based on observable covariates. By matching units with similar propensity scores, PSM helps balance the treatment and control groups, reducing bias in observational studies and allowing for a more accurate estimation of the treatment effect. This method ensures that differences in outcomes are primarily due to the treatment rather than confounding variables."
      ],
      "metadata": {
        "id": "n2GpbtiJvGy3"
      }
    },
    {
      "cell_type": "markdown",
      "source": [
        "The [`matchit`](https://cran.r-project.org/web/packages/MatchIt/vignettes/MatchIt.html) package in `R` offers a range of functions to perform **PSM** analysis. The following code performs matching using a logistic regression model (logit) to estimate propensity scores. The analysis includes all treated units and excludes control units that fall outside the region of common support, ensuring comparability between the groups. The argument `discard = \"control\"` specifies that control observations outside the common support region are discarded. After matching, you can visualize the balance between treatment and control groups by plotting the histogram of propensity scores. Detailed matching results can be accessed using the `summary()` function."
      ],
      "metadata": {
        "id": "2VUWONiVvKcy"
      }
    },
    {
      "cell_type": "code",
      "source": [
        "# Perform PSM using logistic regression (logit) to estimate propensity scores\n",
        "# The matching includes all treated units and only control units within the region of common support.\n",
        "\n",
        "m.nn <- matchit(d_visit ~ DK_basixi + wealth_indexi + logpce_new_wi +\n",
        "                    riskav1_jul06i + norm_exp_rainMay06 + lcultirrpcti +\n",
        "                    mean_payouts + buy_ins04i + bua_newi + group_addi +\n",
        "                    sched_ct + muslim + sexheadi + lage_headi + lhhsizei +\n",
        "                    d_highedu + ins_skilli,  # Covariates included in the propensity score model\n",
        "                  data = df,               # Data frame containing the dataset\n",
        "                  distance = \"logit\",       # Use logistic regression to estimate propensity scores\n",
        "                  discard = \"control\",      # Exclude control units outside the region of common support\n",
        "                  replace = TRUE)           # Allow replacement during matching\n",
        "\n",
        "# Visualize the balance between treatment and control groups by plotting the histogram of propensity scores\n",
        "plot(m.nn, type = \"hist\")\n",
        "\n",
        "# View a summary of the matching results, including balance statistics\n",
        "summary(m.nn)"
      ],
      "metadata": {
        "id": "npB_HhXivPMZ"
      },
      "execution_count": null,
      "outputs": []
    },
    {
      "cell_type": "markdown",
      "source": [
        "**14. What does it mean for a sample to be balanced in Propensity Score Matching (PSM)? Is your sample balanced based on the results? Are any control households outside the region of common support?**\n",
        "\n",
        "\n"
      ],
      "metadata": {
        "id": "NBrk7XSFvM8H"
      }
    },
    {
      "cell_type": "markdown",
      "source": [
        "------------------------Your Answer here----------------------------------------\n"
      ],
      "metadata": {
        "id": "GQVa7Tm_7QIH"
      }
    },
    {
      "cell_type": "markdown",
      "source": [
        "\n",
        "\n",
        "---\n",
        "\n",
        "Once we have a matched sample through PSM, we can estimate the treatment effect by running a simple linear regression model. In this case, the treatment effect is the impact of `d_visit` (the treatment variable) on the outcome `ins_lev` (the number of insurance purchases). By running the regression on the matched data (`df.nn`), we ensure that the treatment and control groups are balanced on covariates, thus providing an unbiased estimate of the treatment effect.\n",
        "\n"
      ],
      "metadata": {
        "id": "NZBEr2hdvV4i"
      }
    },
    {
      "cell_type": "code",
      "source": [
        "# Run a linear regression to estimate the treatment effect after matching\n",
        "df.nn <- match.data(m.nn)\n",
        "# The independent variable is d_visit (indicating whether a household received the treatment)\n",
        "# The dependent variable is ins_lev (the number of insurance purchases)\n",
        "m11a <- lm(ins_lev ~ d_visit, data = df.nn)  # Run the linear model on the matched dataset (df.nn)\n",
        "\n",
        "# View the summary of the regression results\n",
        "summary(m11a)\n"
      ],
      "metadata": {
        "id": "5LRahQVTvbVa"
      },
      "execution_count": null,
      "outputs": []
    },
    {
      "cell_type": "markdown",
      "source": [
        "**15. Test the robustness of the treatment effect using different matching algorithms.**\n",
        "Modify the `matchit` function to use both **full** matching and **genetic** matching methods in order to test the robustness of the treatment effect on insurance purchases. Below is an example of how to run **PSM** using **nearest neighbor** matching. **Your task is to complete the code for full matching and genetic matching, plot the histograms, and analyze the results**.\n"
      ],
      "metadata": {
        "id": "LWAhI7UcvfMv"
      }
    },
    {
      "cell_type": "code",
      "source": [
        "# Define the formula for matching\n",
        "matching_formula <- d_visit ~ DK_basixi + wealth_indexi + logpce_new_wi +\n",
        "                    riskav1_jul06i + norm_exp_rainMay06 + lcultirrpcti +\n",
        "                    mean_payouts + buy_ins04i + bua_newi + group_addi +\n",
        "                    sched_ct + muslim + sexheadi + lage_headi + lhhsizei +\n",
        "                    d_highedu + ins_skilli\n",
        "\n",
        "# 1. Nearest Neighbor Matching (default)\n",
        "m_nearest <- matchit(matching_formula, data = df, method = \"nearest\")\n",
        "plot(m_nearest, type = \"hist\")  # Plot histogram of propensity scores\n",
        "summary(m_nearest)  # View summary\n",
        "\n",
        "# Create a matched dataset and run linear regression\n",
        "df_nearest <- match.data(m_nearest)\n",
        "m11a <- lm(ins_lev ~ d_visit, data = df_nearest)\n",
        "summary(m11a)\n",
        "\n",
        "# 2. Full Matching\n",
        "#------------------------Your Code Here----------------------------------------\n",
        "\n",
        "\n",
        "\n",
        "\n",
        "\n",
        "# 3. Genetic Matching\n",
        "#------------------------Your Code Here----------------------------------------\n",
        "\n"
      ],
      "metadata": {
        "id": "OKui6pMYGR7g"
      },
      "execution_count": null,
      "outputs": []
    },
    {
      "cell_type": "markdown",
      "source": [
        "**16. What are the results of the t-tests for treatment effect using nearest neighbor, full, and genetic matching? Are the results similar across the different matching methods? Explain.**\n"
      ],
      "metadata": {
        "id": "_YZQ_-6jvn3y"
      }
    },
    {
      "cell_type": "markdown",
      "source": [
        "------------------------Your Answer here----------------------------------------\n",
        "\n"
      ],
      "metadata": {
        "id": "slccW1exvpJC"
      }
    },
    {
      "cell_type": "markdown",
      "source": [],
      "metadata": {
        "id": "k9gSW4sY4ria"
      }
    },
    {
      "cell_type": "markdown",
      "source": [
        "**17. How do the different ATT values compare to your results to the t-test from the simple regression of ins_lev on d_visit in Question 9?**\n",
        "\n"
      ],
      "metadata": {
        "id": "r9Rtw7R2vq0x"
      }
    },
    {
      "cell_type": "markdown",
      "source": [
        "------------------------Your Answer here----------------------------------------\n",
        "\n"
      ],
      "metadata": {
        "id": "dSUlKTk5vyNF"
      }
    },
    {
      "cell_type": "markdown",
      "source": [
        "**18. Compare these outcomes to those calculated earlier in the regression in Question 12. Does the PSM reproduce the outcomes of the randomization?**\n",
        "*Remember that some villages were selected to receive an additional treatment and others did not.*\n"
      ],
      "metadata": {
        "id": "jnhyOJoh8qVD"
      }
    },
    {
      "cell_type": "markdown",
      "source": [
        "------------------------Your Answer here----------------------------------------\n",
        "\n"
      ],
      "metadata": {
        "id": "TL0uNtWO8q7Y"
      }
    },
    {
      "cell_type": "markdown",
      "source": [
        "**19. Should the propensity score match be done within villages that had the treatment option, or should it compare households that received the endorsement treatment with similar households in the same village who did not receive the endorsement treatment? Explain your reasoning.**"
      ],
      "metadata": {
        "id": "BxFP_240vylO"
      }
    },
    {
      "cell_type": "markdown",
      "source": [
        "------------------------Your Answer here----------------------------------------\n"
      ],
      "metadata": {
        "id": "yWIsW_Juv1BK"
      }
    },
    {
      "cell_type": "markdown",
      "source": [
        "<pre><code></code></pre>"
      ],
      "metadata": {
        "id": "jktCXNB6No4o"
      }
    },
    {
      "cell_type": "markdown",
      "source": [
        "<pre><code></code></pre>"
      ],
      "metadata": {
        "id": "T86BTeiFNoo7"
      }
    },
    {
      "cell_type": "markdown",
      "source": [
        "<table style=\"border: 1px solid #4CAF50; background-color: #f9f9f9; padding: 10px; width: 100%;\">\n",
        "  <tr>\n",
        "    <td>\n",
        "      <h2 style=\"font-family: 'Times New Roman'; font-size: 22px; color: #333;\">\n",
        "        <b>This Concludes Assignment 2</b>\n",
        "      </h2>\n",
        "      <p style=\"font-family: 'Times New Roman'; font-size: 16px; color: #333;\">\n",
        "        Make sure to submit your completed assignment on Gradescope.\n",
        "        Be sure to save your file as <b>initials_assignment2.ipynb</b>,\n",
        "        where \"initials\" are your initials.\n",
        "      </p>\n",
        "      <p style=\"font-family: 'Times New Roman'; font-size: 16px; color: #333;\">\n",
        "        Good luck, and feel free to reach out with any questions before the due date!\n",
        "      </p>\n",
        "    </td>\n",
        "  </tr>\n",
        "</table>"
      ],
      "metadata": {
        "id": "LDOVryk-NglR"
      }
    },
    {
      "cell_type": "markdown",
      "source": [
        "\n",
        "\n",
        "---\n",
        "\n"
      ],
      "metadata": {
        "id": "DuK1WOPa_wqa"
      }
    }
  ]
}